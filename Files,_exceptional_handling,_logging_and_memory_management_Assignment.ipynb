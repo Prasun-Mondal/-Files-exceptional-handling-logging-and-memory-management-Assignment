{
  "nbformat": 4,
  "nbformat_minor": 0,
  "metadata": {
    "colab": {
      "provenance": []
    },
    "kernelspec": {
      "name": "python3",
      "display_name": "Python 3"
    },
    "language_info": {
      "name": "python"
    }
  },
  "cells": [
    {
      "cell_type": "markdown",
      "source": [
        "# Files, exceptional handling, logging and memory management Assignment"
      ],
      "metadata": {
        "id": "7TT6Auk59p8w"
      }
    },
    {
      "cell_type": "markdown",
      "source": [
        "# Theory Questions\n",
        "---\n",
        "\n",
        "**Q1> What is the difference between interpreted and compiled languages?**\n",
        "\n",
        "- **Interpreted Languages**: The source code is executed directly by an interpreter. No intermediate machine code is produced, and the program is executed line by line (e.g., Python, JavaScript).\n",
        "- **Compiled Languages**: The source code is transformed into machine code (binary) by a compiler before execution. This machine code is executed directly by the CPU (e.g., C, C++).\n",
        "\n",
        "---\n",
        "\n",
        "**Q2> What is exception handling in Python?**\n",
        "\n",
        "Exception handling in Python is the process of responding to runtime errors using `try`, `except`, `else`, and `finally` blocks. It allows the programmer to handle errors gracefully, without terminating the program.\n",
        "\n",
        "---\n",
        "\n",
        "**Q3> What is the purpose of the finally block in exception handling?**\n",
        "\n",
        "The `finally` block is executed no matter what happens in the `try` and `except` blocks. It is useful for performing cleanup actions (e.g., closing files, releasing resources) that should always occur, whether an exception was raised or not.\n",
        "\n",
        "---\n",
        "\n",
        "**Q4> What is logging in Python?**\n",
        "\n",
        "Logging in Python refers to tracking events and behaviors that happen during the execution of a program. It helps in debugging, error tracking, and keeping records of the application’s behavior. The `logging` module provides a flexible framework for logging messages.\n",
        "\n",
        "---\n",
        "\n",
        "**Q5> What is the significance of the __del__ method in Python?**\n",
        "\n",
        "The `__del__` method is a destructor in Python. It is called when an object is about to be destroyed, which usually happens when the object goes out of scope or when `del` is called. It is typically used to release resources (e.g., closing files or network connections).\n",
        "\n",
        "---\n",
        "\n",
        "**Q6> What is the difference between import and from ... import in Python?**\n",
        "\n",
        "- `import module`: Imports the entire module, and you access its attributes with `module.attribute`.\n",
        "- `from module import something`: Imports a specific attribute or function from the module, allowing you to use it directly without the module prefix.\n",
        "\n",
        "---\n",
        "\n",
        "**Q7> How can you handle multiple exceptions in Python?**\n",
        "\n",
        "You can handle multiple exceptions in Python using multiple `except` clauses or by specifying a tuple of exceptions in a single `except` clause.\n",
        "\n",
        "Example:\n",
        "```python\n",
        "try:\n",
        "    # some code\n",
        "except (TypeError, ValueError) as e:\n",
        "    print(\"An error occurred:\", e)\n",
        "```\n",
        "\n",
        "---\n",
        "\n",
        "**Q8> What is the purpose of the with statement when handling files in Python?**\n",
        "\n",
        "The `with` statement simplifies file handling by ensuring that the file is properly closed after its block of code is executed, even if an error occurs. This prevents resource leakage.\n",
        "\n",
        "Example:\n",
        "```python\n",
        "with open('file.txt', 'r') as file:\n",
        "    content = file.read()\n",
        "```\n",
        "\n",
        "---\n",
        "\n",
        "**Q9> What is the difference between multithreading and multiprocessing?**\n",
        "\n",
        "- **Multithreading**: Multiple threads within a single process run concurrently. Threads share memory space and are suitable for tasks that are I/O-bound.\n",
        "- **Multiprocessing**: Multiple processes run independently with separate memory spaces. It is ideal for CPU-bound tasks as it can fully utilize multiple CPU cores.\n",
        "\n",
        "---\n",
        "\n",
        "**Q10> What are the advantages of using logging in a program?**\n",
        "\n",
        "- Tracks application events for debugging.\n",
        "- Provides detailed error messages and stack traces.\n",
        "- Helps to diagnose issues in production environments.\n",
        "- Supports different log levels (info, warning, error) for filtering logs.\n",
        "- Can output logs to different destinations (e.g., files, consoles, external systems).\n",
        "\n",
        "---\n",
        "\n",
        "**Q11> What is memory management in Python?**\n",
        "\n",
        "Memory management in Python involves the allocation and deallocation of memory to objects automatically. It uses a garbage collection system to clean up unused objects and free memory, making it easier for developers to manage memory.\n",
        "\n",
        "---\n",
        "\n",
        "**Q12> What are the basic steps involved in exception handling in Python?**\n",
        "\n",
        "1. **Try block**: Execute code that may raise exceptions.\n",
        "2. **Except block**: Handle specific exceptions that occur in the try block.\n",
        "3. **Else block**: Code that runs if no exceptions occur.\n",
        "4. **Finally block**: Code that runs no matter what (for cleanup).\n",
        "\n",
        "---\n",
        "\n",
        "**Q13> Why is memory management important in Python?**\n",
        "\n",
        "Effective memory management is crucial for optimizing performance, preventing memory leaks, and ensuring that the program doesn’t consume excessive resources, especially when dealing with large datasets or long-running applications.\n",
        "\n",
        "---\n",
        "\n",
        "**Q14> What is the role of try and except in exception handling?**\n",
        "\n",
        "- **try**: Contains the code that might raise an exception.\n",
        "- **except**: Catches and handles the exception if it occurs, preventing the program from crashing.\n",
        "\n",
        "---\n",
        "\n",
        "**Q15> How does Python's garbage collection system work?**\n",
        "\n",
        "Python's garbage collection system uses reference counting and a cyclic garbage collector to manage memory. When an object's reference count drops to zero, it is automatically deallocated. The cyclic garbage collector deals with objects that reference each other in cycles, preventing memory leaks.\n",
        "\n",
        "---\n",
        "\n",
        "**Q16> What is the purpose of the else block in exception handling?**\n",
        "\n",
        "The `else` block in exception handling is executed if no exceptions were raised in the `try` block. It is typically used for code that should run only if no error occurred.\n",
        "\n",
        "---\n",
        "\n",
        "**Q17> What are the common logging levels in Python?**\n",
        "\n",
        "Common logging levels in Python, in order of increasing severity:\n",
        "- `DEBUG`: Detailed information, typically for diagnosing problems.\n",
        "- `INFO`: Informational messages indicating normal operation.\n",
        "- `WARNING`: Indicates something unexpected, but the program is still running.\n",
        "- `ERROR`: A more serious problem that prevents part of the program from functioning.\n",
        "- `CRITICAL`: A very severe error that causes the program to terminate.\n",
        "\n",
        "---\n",
        "\n",
        "**Q18> What is the difference between os.fork() and multiprocessing in Python?**\n",
        "\n",
        "- **os.fork()**: Creates a new child process by duplicating the current process. It works only on UNIX-like systems.\n",
        "- **multiprocessing**: A higher-level API that provides process-based parallelism and works across platforms (Windows, Linux). It abstracts the complexities of process management.\n",
        "\n",
        "---\n",
        "\n",
        "**Q19> What is the importance of closing a file in Python?**\n",
        "\n",
        "Closing a file ensures that all data is written to the file, resources are released, and no file handles are left open, which could lead to memory leaks or errors.\n",
        "\n",
        "---\n",
        "\n",
        "**Q20> What is the difference between file.read() and file.readline() in Python?**\n",
        "\n",
        "- **file.read()**: Reads the entire content of the file as a string.\n",
        "- **file.readline()**: Reads the next line from the file, returning it as a string.\n",
        "\n",
        "---\n",
        "\n",
        "**Q21> What is the logging module in Python used for?**\n",
        "\n",
        "The `logging` module is used to provide a flexible framework for logging messages from Python programs, allowing for logging of events, errors, and debugging information.\n",
        "\n",
        "---\n",
        "\n",
        "**Q22> What is the os module in Python used for in file handling?**\n",
        "\n",
        "The `os` module provides functions for interacting with the operating system, such as working with file paths, creating and deleting files, and modifying file permissions.\n",
        "\n",
        "---\n",
        "\n",
        "**Q23> What are the challenges associated with memory management in Python?**\n",
        "\n",
        "Challenges include:\n",
        "- Managing memory for large datasets.\n",
        "- Handling circular references in objects.\n",
        "- Optimizing performance in long-running applications to prevent memory leaks.\n",
        "- Managing memory when working with external resources or C extensions.\n",
        "\n",
        "---\n",
        "\n",
        "**Q24> How do you raise an exception manually in Python?**\n",
        "\n",
        "You can raise an exception using the `raise` keyword.\n",
        "\n",
        "Example:\n",
        "```python\n",
        "raise ValueError(\"This is a custom error\")\n",
        "```\n",
        "\n",
        "---\n",
        "\n",
        "**Q25> Why is it important to use multithreading in certain applications?**\n",
        "\n",
        "Multithreading is useful for applications that involve concurrent I/O operations (e.g., web scraping, network communication) where tasks can run in parallel. It allows for better resource utilization and faster program execution.\n",
        "\n",
        "---"
      ],
      "metadata": {
        "id": "lFp_TPXe9XJA"
      }
    },
    {
      "cell_type": "markdown",
      "source": [
        "# Practical Questions"
      ],
      "metadata": {
        "id": "0Y2DYqo196fZ"
      }
    },
    {
      "cell_type": "markdown",
      "source": [
        "Q1> How can you open a file for writing in Python and write a string to it?"
      ],
      "metadata": {
        "id": "xroycLUk-HUq"
      }
    },
    {
      "cell_type": "code",
      "source": [
        "# Opening a file in write mode ('w')\n",
        "with open('example.txt', 'w') as file:\n",
        "    # Writing a string to the file\n",
        "    file.write(\"This is a string written to the file.\")\n"
      ],
      "metadata": {
        "id": "jZxTlq3B-lgd"
      },
      "execution_count": null,
      "outputs": []
    },
    {
      "cell_type": "code",
      "source": [
        "#importing to local pc to check if the string was written to the file\n",
        "from google.colab import files\n",
        "files.download('/content/example.txt')\n"
      ],
      "metadata": {
        "colab": {
          "base_uri": "https://localhost:8080/",
          "height": 17
        },
        "id": "UjTZDQIf_FUZ",
        "outputId": "9d3a5303-92e3-413f-db52-23dc0d7cb5d3"
      },
      "execution_count": null,
      "outputs": [
        {
          "output_type": "display_data",
          "data": {
            "text/plain": [
              "<IPython.core.display.Javascript object>"
            ],
            "application/javascript": [
              "\n",
              "    async function download(id, filename, size) {\n",
              "      if (!google.colab.kernel.accessAllowed) {\n",
              "        return;\n",
              "      }\n",
              "      const div = document.createElement('div');\n",
              "      const label = document.createElement('label');\n",
              "      label.textContent = `Downloading \"${filename}\": `;\n",
              "      div.appendChild(label);\n",
              "      const progress = document.createElement('progress');\n",
              "      progress.max = size;\n",
              "      div.appendChild(progress);\n",
              "      document.body.appendChild(div);\n",
              "\n",
              "      const buffers = [];\n",
              "      let downloaded = 0;\n",
              "\n",
              "      const channel = await google.colab.kernel.comms.open(id);\n",
              "      // Send a message to notify the kernel that we're ready.\n",
              "      channel.send({})\n",
              "\n",
              "      for await (const message of channel.messages) {\n",
              "        // Send a message to notify the kernel that we're ready.\n",
              "        channel.send({})\n",
              "        if (message.buffers) {\n",
              "          for (const buffer of message.buffers) {\n",
              "            buffers.push(buffer);\n",
              "            downloaded += buffer.byteLength;\n",
              "            progress.value = downloaded;\n",
              "          }\n",
              "        }\n",
              "      }\n",
              "      const blob = new Blob(buffers, {type: 'application/binary'});\n",
              "      const a = document.createElement('a');\n",
              "      a.href = window.URL.createObjectURL(blob);\n",
              "      a.download = filename;\n",
              "      div.appendChild(a);\n",
              "      a.click();\n",
              "      div.remove();\n",
              "    }\n",
              "  "
            ]
          },
          "metadata": {}
        },
        {
          "output_type": "display_data",
          "data": {
            "text/plain": [
              "<IPython.core.display.Javascript object>"
            ],
            "application/javascript": [
              "download(\"download_20fdab62-27b0-49aa-805d-1bc8ee672b25\", \"example.txt\", 37)"
            ]
          },
          "metadata": {}
        }
      ]
    },
    {
      "cell_type": "markdown",
      "source": [
        "Below is the screenshot of the file from local machine"
      ],
      "metadata": {
        "id": "aTZp1WUE_1CB"
      }
    },
    {
      "cell_type": "markdown",
      "source": [
        "![Screenshot 2025-01-06 103308.png](data:image/png;base64,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)"
      ],
      "metadata": {
        "id": "2C3CxX5H_d26"
      }
    },
    {
      "cell_type": "markdown",
      "source": [
        "Q2> Write a Python program to read the contents of a file and print each line."
      ],
      "metadata": {
        "id": "RK2VUYS8-kRI"
      }
    },
    {
      "cell_type": "code",
      "source": [
        "# Open the file in read mode ('r')\n",
        "with open('/content/example.txt', 'r') as file:\n",
        "    # Iterate through each line in the file and print it\n",
        "    for line in file:\n",
        "        print(line, end='')  # end='' prevents adding an extra newline\n"
      ],
      "metadata": {
        "colab": {
          "base_uri": "https://localhost:8080/"
        },
        "id": "7HCUWe0yAImE",
        "outputId": "c3f0126c-56ac-4b12-c8c1-0d18796c7144"
      },
      "execution_count": null,
      "outputs": [
        {
          "output_type": "stream",
          "name": "stdout",
          "text": [
            "This is a string written to the file."
          ]
        }
      ]
    },
    {
      "cell_type": "markdown",
      "source": [
        "Q3> How would you handle a case where the file doesn't exist while trying to open it for reading?"
      ],
      "metadata": {
        "id": "umebfuxgAOSK"
      }
    },
    {
      "cell_type": "code",
      "source": [
        "try:\n",
        "    # Attempting to open the file in read mode ('r')\n",
        "    with open('/content/example.txt', 'r') as file:\n",
        "        # Read and print each line of the file\n",
        "        for line in file:\n",
        "            print(line, end='')\n",
        "\n",
        "except FileNotFoundError:\n",
        "    # Handle the case where the file doesn't exist\n",
        "    print(\"Error: The file does not exist.\")\n"
      ],
      "metadata": {
        "colab": {
          "base_uri": "https://localhost:8080/"
        },
        "id": "EHIwvNI8AWTU",
        "outputId": "23020c1e-20d0-446d-da70-ae615cb48317"
      },
      "execution_count": null,
      "outputs": [
        {
          "output_type": "stream",
          "name": "stdout",
          "text": [
            "This is a string written to the file."
          ]
        }
      ]
    },
    {
      "cell_type": "markdown",
      "source": [
        "As the file - 'example.txt' exists we are getting the string that is present in the file as the end result ."
      ],
      "metadata": {
        "id": "8dXxiVMfAmso"
      }
    },
    {
      "cell_type": "markdown",
      "source": [
        "Q4> Write a Python script that reads from one file and writes its content to another file."
      ],
      "metadata": {
        "id": "qqRwKOgFA1jW"
      }
    },
    {
      "cell_type": "code",
      "source": [
        "# Open input file in write mode ('w') and write a string to it\n",
        "with open('/content/input.txt', 'w') as file:\n",
        "    file.write(\"Hello, world!\\nThis is a test.\")\n",
        "\n",
        "# Check if the file was created successfully by listing files in the current directory\n",
        "import os\n",
        "os.listdir('/content')\n"
      ],
      "metadata": {
        "colab": {
          "base_uri": "https://localhost:8080/"
        },
        "id": "EqlpZdcYBTrj",
        "outputId": "c322a474-7ef4-4178-9dea-33ad0615659b"
      },
      "execution_count": null,
      "outputs": [
        {
          "output_type": "execute_result",
          "data": {
            "text/plain": [
              "['.config', 'example.txt', 'input.txt', 'sample_data']"
            ]
          },
          "metadata": {},
          "execution_count": 9
        }
      ]
    },
    {
      "cell_type": "code",
      "source": [
        "# Open output file in write mode ('w')\n",
        "with open('/content/output.txt', 'w') as file:\n",
        "    pass\n",
        "\n",
        "# Check if the file was created successfully by listing files in the current directory\n",
        "import os\n",
        "os.listdir('/content')"
      ],
      "metadata": {
        "colab": {
          "base_uri": "https://localhost:8080/"
        },
        "id": "KkPgwU-OBr8T",
        "outputId": "cddd3225-eafd-47f5-d358-83a18bd8bc9f"
      },
      "execution_count": null,
      "outputs": [
        {
          "output_type": "execute_result",
          "data": {
            "text/plain": [
              "['.config', 'example.txt', 'input.txt', 'output.txt', 'sample_data']"
            ]
          },
          "metadata": {},
          "execution_count": 13
        }
      ]
    },
    {
      "cell_type": "code",
      "source": [
        "# Define the input and output file paths\n",
        "input_file_path = '/content/input.txt'\n",
        "output_file_path = '/content/output.txt'\n",
        "\n",
        "try:\n",
        "    # Open the input file in read mode and the output file in write mode\n",
        "    with open(input_file_path, 'r') as infile, open(output_file_path, 'w') as outfile:\n",
        "        # Read the contents of the input file and write to the output file\n",
        "        content = infile.read()  # Read the entire file content\n",
        "        outfile.write(content)   # Write the content to the output file\n",
        "\n",
        "    print(\"File content has been successfully copied.\")\n",
        "\n",
        "except FileNotFoundError:\n",
        "    print(f\"Error: The file '{input_file_path}' does not exist.\")\n"
      ],
      "metadata": {
        "colab": {
          "base_uri": "https://localhost:8080/"
        },
        "id": "bTaRBIzXBExL",
        "outputId": "ec42989c-99f2-4d16-e76f-37e55ab78f73"
      },
      "execution_count": null,
      "outputs": [
        {
          "output_type": "stream",
          "name": "stdout",
          "text": [
            "File content has been successfully copied.\n"
          ]
        }
      ]
    },
    {
      "cell_type": "code",
      "source": [
        "# Open input file in read mode ('r')\n",
        "with open('/content/input.txt', 'r') as file:\n",
        "    # Iterate through each line in the file and print it\n",
        "    for line in file:\n",
        "        print(line, end='')  # end='' prevents adding an extra newline"
      ],
      "metadata": {
        "colab": {
          "base_uri": "https://localhost:8080/"
        },
        "id": "xsm2DXfgChja",
        "outputId": "443ac078-4dcf-4ca2-eabd-5e59f004f665"
      },
      "execution_count": null,
      "outputs": [
        {
          "output_type": "stream",
          "name": "stdout",
          "text": [
            "Hello, world!\n",
            "This is a test."
          ]
        }
      ]
    },
    {
      "cell_type": "code",
      "source": [
        "# Open output file in read mode ('r')\n",
        "with open('/content/output.txt', 'r') as file:\n",
        "    # Iterate through each line in the file and print it\n",
        "    for line in file:\n",
        "        print(line, end='')  # end='' prevents adding an extra newline"
      ],
      "metadata": {
        "colab": {
          "base_uri": "https://localhost:8080/"
        },
        "id": "6RW93Vu0CdaF",
        "outputId": "deb53b7f-fde0-4e74-c67b-8fe8bb39399b"
      },
      "execution_count": null,
      "outputs": [
        {
          "output_type": "stream",
          "name": "stdout",
          "text": [
            "Hello, world!\n",
            "This is a test."
          ]
        }
      ]
    },
    {
      "cell_type": "markdown",
      "source": [
        "Q5> How would you catch and handle division by zero error in Python?"
      ],
      "metadata": {
        "id": "tMgSnPdKCut3"
      }
    },
    {
      "cell_type": "code",
      "source": [
        "try:\n",
        "    # Attempt division\n",
        "    numerator = 10\n",
        "    denominator = 0  # This will cause a division by zero error\n",
        "    result = numerator / denominator\n",
        "    print(\"The result is:\", result)\n",
        "except ZeroDivisionError:\n",
        "    # Handle the division by zero error\n",
        "    print(\"Error: Division by zero is not allowed.\")\n"
      ],
      "metadata": {
        "colab": {
          "base_uri": "https://localhost:8080/"
        },
        "id": "OirSlAmpCzuv",
        "outputId": "bfdeac99-95fd-4a9a-f2e9-b1264a8bf61c"
      },
      "execution_count": null,
      "outputs": [
        {
          "output_type": "stream",
          "name": "stdout",
          "text": [
            "Error: Division by zero is not allowed.\n"
          ]
        }
      ]
    },
    {
      "cell_type": "markdown",
      "source": [
        "Q6> Write a Python program that logs an error message to a log file when a division by zero exception occurs."
      ],
      "metadata": {
        "id": "YdvqoiX7C8Ef"
      }
    },
    {
      "cell_type": "code",
      "source": [
        "# Open error_log file in write mode ('w')\n",
        "with open('/content/error_log.txt', 'w') as file:\n",
        "    pass # Nothing is written, file is truncated (emptied)\n",
        "\n",
        "# Check if the file was created successfully by listing files in the current directory\n",
        "import os\n",
        "os.listdir('/content')"
      ],
      "metadata": {
        "colab": {
          "base_uri": "https://localhost:8080/"
        },
        "id": "WlBPIph-DerO",
        "outputId": "54f9e2e4-1352-44f8-d871-dcb28bf7157f"
      },
      "execution_count": 38,
      "outputs": [
        {
          "output_type": "execute_result",
          "data": {
            "text/plain": [
              "['.config',\n",
              " 'example.txt',\n",
              " 'input.txt',\n",
              " 'error_log.txt',\n",
              " 'output.txt',\n",
              " 'sample_data']"
            ]
          },
          "metadata": {},
          "execution_count": 38
        }
      ]
    },
    {
      "cell_type": "code",
      "source": [
        "# Attempt division and handle division by zero\n",
        "try:\n",
        "    numerator = 10\n",
        "    denominator = 0  # This will cause a division by zero error\n",
        "    result = numerator / denominator\n",
        "    print(\"The result is:\", result)\n",
        "\n",
        "except ZeroDivisionError as e:\n",
        "    # Open the log file in append mode ('a') and write the error message\n",
        "    with open('/content/error_log.txt', 'a') as log_file:\n",
        "        log_file.write(f\"{e} occurred while trying to divide {numerator} by {denominator}.\\n\")\n",
        "\n",
        "    # Optionally, print the error message to the output\n",
        "    print(\"Error: Division by zero is not allowed.\")\n",
        "\n",
        "# Optionally, print the content of the log file\n",
        "with open('/content/error_log.txt', 'r') as file:\n",
        "    log_content = file.read()\n",
        "    print(log_content)\n"
      ],
      "metadata": {
        "colab": {
          "base_uri": "https://localhost:8080/"
        },
        "id": "HEPABjICGsW2",
        "outputId": "efe6893a-e896-4bcb-ab49-4cfaf6b4c199"
      },
      "execution_count": 39,
      "outputs": [
        {
          "output_type": "stream",
          "name": "stdout",
          "text": [
            "Error: Division by zero is not allowed.\n",
            "division by zero occurred while trying to divide 10 by 0.\n",
            "\n"
          ]
        }
      ]
    },
    {
      "cell_type": "markdown",
      "source": [
        "Q7> How do you log information at different levels (INFO, ERROR, WARNING) in Python using the logging module?"
      ],
      "metadata": {
        "id": "ovaYi4nYHaxT"
      }
    },
    {
      "cell_type": "code",
      "source": [
        "# importing module\n",
        "import logging\n",
        "\n",
        "# Create and configure logger\n",
        "logging.basicConfig(filename='/content/newfile.log', level=logging.DEBUG,\n",
        "                    format='%(asctime)s - %(levelname)s - %(message)s')\n",
        "\n",
        "# Creating an object\n",
        "logger = logging.getLogger()\n",
        "\n",
        "# Setting the threshold of logger to DEBUG\n",
        "logger.setLevel(logging.DEBUG)\n",
        "\n",
        "# Test messages\n",
        "logger.debug(\"Harmless debug Message\")\n",
        "logger.info(\"Just an information\")\n",
        "logger.warning(\"Its a Warning\")\n",
        "logger.error(\"Did you try to divide by zero\")\n",
        "logger.critical(\"Internet is down\")"
      ],
      "metadata": {
        "colab": {
          "base_uri": "https://localhost:8080/"
        },
        "id": "MQtjXRGFHg5E",
        "outputId": "b6d10937-bf1f-4ec8-c434-c393ea3cd2fe"
      },
      "execution_count": 49,
      "outputs": [
        {
          "output_type": "stream",
          "name": "stderr",
          "text": [
            "DEBUG:root:Harmless debug Message\n",
            "INFO:root:Just an information\n",
            "WARNING:root:Its a Warning\n",
            "ERROR:root:Did you try to divide by zero\n",
            "CRITICAL:root:Internet is down\n"
          ]
        }
      ]
    },
    {
      "cell_type": "markdown",
      "source": [
        "Q8> Write a program to handle a file opening error using exception handling."
      ],
      "metadata": {
        "id": "Pr0kTuvyePfo"
      }
    },
    {
      "cell_type": "code",
      "source": [
        "try:\n",
        "    # Attempt to open a file\n",
        "    file_name = '/content/non_existent_file.txt'\n",
        "    with open(file_name, 'r') as file:\n",
        "        content = file.read()\n",
        "        print(content)\n",
        "\n",
        "except FileNotFoundError:\n",
        "    # Handle case when the file is not found\n",
        "    print(f\"Error: The file '{file_name}' does not exist.\")\n",
        "\n",
        "except IOError as e:\n",
        "    # Handle other I/O errors\n",
        "    print(f\"Error: An IOError occurred: {e}\")\n",
        "\n",
        "except Exception as e:\n",
        "    # Catch any other unexpected exceptions\n",
        "    print(f\"An unexpected error occurred: {e}\")\n",
        "\n"
      ],
      "metadata": {
        "colab": {
          "base_uri": "https://localhost:8080/"
        },
        "id": "jJdS3eLfeRty",
        "outputId": "3628f50c-966b-46c5-f511-f57ec1535436"
      },
      "execution_count": 50,
      "outputs": [
        {
          "output_type": "stream",
          "name": "stdout",
          "text": [
            "Error: The file '/content/non_existent_file.txt' does not exist.\n"
          ]
        }
      ]
    },
    {
      "cell_type": "markdown",
      "source": [
        "Q9> How can you read a file line by line and store its content in a list in Python?"
      ],
      "metadata": {
        "id": "za8xVj3eeY6E"
      }
    },
    {
      "cell_type": "code",
      "source": [
        "# Open output file in read mode ('r')\n",
        "with open('/content/output.txt', 'r') as file:\n",
        "    # Iterate through each line in the file and print it\n",
        "    for line in file:\n",
        "        print(line, end='')  # end='' prevents adding an extra newline"
      ],
      "metadata": {
        "colab": {
          "base_uri": "https://localhost:8080/"
        },
        "id": "hHVwowBuey9J",
        "outputId": "92de06fa-7d07-4945-a38f-3e91ae394e3f"
      },
      "execution_count": 53,
      "outputs": [
        {
          "output_type": "stream",
          "name": "stdout",
          "text": [
            "Hello, world!\n",
            "This is a test."
          ]
        }
      ]
    },
    {
      "cell_type": "code",
      "source": [
        "file_name = '/content/output.txt'\n",
        "\n",
        "lines = []  # Initialize an empty list\n",
        "\n",
        "try:\n",
        "    with open(file_name, 'r') as file:\n",
        "        # Iterate over the file line by line\n",
        "        for line in file:\n",
        "            lines.append(line.strip())  # Use strip() to remove newline characters\n",
        "\n",
        "    # Display the list of lines\n",
        "    print(lines)\n",
        "\n",
        "except FileNotFoundError:\n",
        "    print(f\"Error: The file '{file_name}' does not exist.\")\n"
      ],
      "metadata": {
        "colab": {
          "base_uri": "https://localhost:8080/"
        },
        "id": "S8IMTRD1L4MG",
        "outputId": "38e5f146-e3e0-4709-aca5-74ebe2bd9a07"
      },
      "execution_count": 52,
      "outputs": [
        {
          "output_type": "stream",
          "name": "stdout",
          "text": [
            "['Hello, world!', 'This is a test.']\n"
          ]
        }
      ]
    },
    {
      "cell_type": "markdown",
      "source": [
        "Q10>  How can you append data to an existing file in Python?"
      ],
      "metadata": {
        "id": "bY2Th7dnexg2"
      }
    },
    {
      "cell_type": "code",
      "source": [
        "# Opening a file in write mode ('w')\n",
        "with open('example.txt', 'w') as file:\n",
        "    # Writing a string to the file\n",
        "    file.write(\"This is a string written to the file.\")"
      ],
      "metadata": {
        "id": "4EZKRnmrfMcM"
      },
      "execution_count": 57,
      "outputs": []
    },
    {
      "cell_type": "code",
      "source": [
        "# Open the example file in read mode ('r')\n",
        "with open('/content/example.txt', 'r') as file:\n",
        "    # Iterate through each line in the file and print it\n",
        "    for line in file:\n",
        "        print(line, end='')  # end='' prevents adding an extra newline"
      ],
      "metadata": {
        "colab": {
          "base_uri": "https://localhost:8080/"
        },
        "id": "bl3of-F8fhb0",
        "outputId": "59d212e6-9f8f-4608-c339-2774a5d026f1"
      },
      "execution_count": 59,
      "outputs": [
        {
          "output_type": "stream",
          "name": "stdout",
          "text": [
            "This is a string written to the file."
          ]
        }
      ]
    },
    {
      "cell_type": "code",
      "source": [
        "# Data to append\n",
        "data_to_append = \"This is the new data that will be appended to the file.\\n\"\n",
        "\n",
        "# Open the file in append mode\n",
        "file_name = '/content/example.txt'\n",
        "\n",
        "try:\n",
        "    with open(file_name, 'a') as file:\n",
        "        # Append data to the file\n",
        "        file.write(data_to_append)\n",
        "\n",
        "    print(\"Data has been appended successfully.\")\n",
        "\n",
        "except FileNotFoundError:\n",
        "    print(f\"Error: The file '{file_name}' does not exist.\")\n"
      ],
      "metadata": {
        "colab": {
          "base_uri": "https://localhost:8080/"
        },
        "id": "74Ad6xfee-gM",
        "outputId": "0b9e35ac-9287-4597-c837-010fbbb3a65e"
      },
      "execution_count": 60,
      "outputs": [
        {
          "output_type": "stream",
          "name": "stdout",
          "text": [
            "Data has been appended successfully.\n"
          ]
        }
      ]
    },
    {
      "cell_type": "code",
      "source": [
        "# Open output file in read mode ('r')\n",
        "with open('/content/example.txt', 'r') as file:\n",
        "    # Iterate through each line in the file and print it\n",
        "    for line in file:\n",
        "        print(line, end='')  # end='' prevents adding an extra newline"
      ],
      "metadata": {
        "colab": {
          "base_uri": "https://localhost:8080/"
        },
        "id": "MU6U9BPXfHqk",
        "outputId": "63e11fe4-4007-4977-ac3a-7de7cc55202f"
      },
      "execution_count": 61,
      "outputs": [
        {
          "output_type": "stream",
          "name": "stdout",
          "text": [
            "This is a string written to the file.This is the new data that will be appended to the file.\n"
          ]
        }
      ]
    },
    {
      "cell_type": "markdown",
      "source": [
        "Q11> Write a Python program that uses a try-except block to handle an error when attempting to access a\n",
        "dictionary key that doesn't exist."
      ],
      "metadata": {
        "id": "FoSasZOvfsNm"
      }
    },
    {
      "cell_type": "code",
      "source": [
        "# Define a sample dictionary\n",
        "sample_dict = {'name': 'John', 'age': 30, 'city': 'New York'}\n",
        "\n",
        "# Attempt to access a non-existent key\n",
        "key_to_access = 'address'\n",
        "\n",
        "try:\n",
        "    # Trying to access a key that may not exist\n",
        "    value = sample_dict[key_to_access]\n",
        "    print(f\"Value for '{key_to_access}': {value}\")\n",
        "\n",
        "except KeyError:\n",
        "    # Handle the case where the key doesn't exist in the dictionary\n",
        "    print(f\"Error: The key '{key_to_access}' does not exist in the dictionary.\")\n"
      ],
      "metadata": {
        "colab": {
          "base_uri": "https://localhost:8080/"
        },
        "id": "z3vEr6NYfw1m",
        "outputId": "7fd10d6d-59d1-4401-fd9c-428adecdacec"
      },
      "execution_count": 62,
      "outputs": [
        {
          "output_type": "stream",
          "name": "stdout",
          "text": [
            "Error: The key 'address' does not exist in the dictionary.\n"
          ]
        }
      ]
    },
    {
      "cell_type": "markdown",
      "source": [
        "Q12> Write a program that demonstrates using multiple except blocks to handle different types of exceptions."
      ],
      "metadata": {
        "id": "02UlEA91f7yv"
      }
    },
    {
      "cell_type": "code",
      "source": [
        "def handle_exceptions():\n",
        "    try:\n",
        "        # Demonstrating multiple types of exceptions\n",
        "\n",
        "        # Example 1: Division by zero\n",
        "        num1 = 10\n",
        "        num2 = 0\n",
        "        result = num1 / num2  # This will raise a ZeroDivisionError\n",
        "        print(f\"Result: {result}\")\n",
        "\n",
        "        # Example 2: Accessing an invalid index in a list\n",
        "        my_list = [1, 2, 3]\n",
        "        print(my_list[5])  # This will raise an IndexError\n",
        "\n",
        "        # Example 3: Attempting to open a non-existent file\n",
        "        with open('non_existent_file.txt', 'r') as file:\n",
        "            content = file.read()  # This will raise a FileNotFoundError\n",
        "\n",
        "    except ZeroDivisionError:\n",
        "        print(\"Error: Division by zero is not allowed.\")\n",
        "\n",
        "    except IndexError:\n",
        "        print(\"Error: Index out of range in the list.\")\n",
        "\n",
        "    except FileNotFoundError:\n",
        "        print(\"Error: The file you are trying to access does not exist.\")\n",
        "\n",
        "    except Exception as e:\n",
        "        # Catch any other unexpected exception\n",
        "        print(f\"An unexpected error occurred: {e}\")\n",
        "\n",
        "# Call the function to demonstrate exception handling\n",
        "handle_exceptions()\n"
      ],
      "metadata": {
        "colab": {
          "base_uri": "https://localhost:8080/"
        },
        "id": "Hw5M-Mvnf--4",
        "outputId": "b918340b-20ee-448d-b8a2-fe3b0f54cfa6"
      },
      "execution_count": 63,
      "outputs": [
        {
          "output_type": "stream",
          "name": "stdout",
          "text": [
            "Error: Division by zero is not allowed.\n"
          ]
        }
      ]
    },
    {
      "cell_type": "markdown",
      "source": [
        "Q13> How would you check if a file exists before attempting to read it in Python?"
      ],
      "metadata": {
        "id": "kQtN3UADgEQ0"
      }
    },
    {
      "cell_type": "code",
      "source": [
        "import os\n",
        "\n",
        "file_name = '/content/sample_file.txt'\n",
        "\n",
        "if os.path.exists(file_name):\n",
        "    # File exists, proceed with reading\n",
        "    with open(file_name, 'r') as file:\n",
        "        content = file.read()\n",
        "        print(content)\n",
        "else:\n",
        "    print(f\"Error: The file '{file_name}' does not exist.\")\n"
      ],
      "metadata": {
        "colab": {
          "base_uri": "https://localhost:8080/"
        },
        "id": "qLbt5lKPgIAM",
        "outputId": "93bc836e-3b61-4638-a9fd-b4d78fcf7ed8"
      },
      "execution_count": 64,
      "outputs": [
        {
          "output_type": "stream",
          "name": "stdout",
          "text": [
            "Error: The file '/content/sample_file.txt' does not exist.\n"
          ]
        }
      ]
    },
    {
      "cell_type": "code",
      "source": [
        "import os\n",
        "\n",
        "file_name = '/content/example.txt'\n",
        "\n",
        "if os.path.exists(file_name):\n",
        "    # File exists, proceed with reading\n",
        "    with open(file_name, 'r') as file:\n",
        "        content = file.read()\n",
        "        print(content)\n",
        "else:\n",
        "    print(f\"Error: The file '{file_name}' does not exist.\")\n"
      ],
      "metadata": {
        "colab": {
          "base_uri": "https://localhost:8080/"
        },
        "id": "CBQ2dUS9gRLR",
        "outputId": "61fd4bd0-5584-46fb-c959-6fa2d1a4f6a9"
      },
      "execution_count": 65,
      "outputs": [
        {
          "output_type": "stream",
          "name": "stdout",
          "text": [
            "This is a string written to the file.This is the new data that will be appended to the file.\n",
            "\n"
          ]
        }
      ]
    },
    {
      "cell_type": "markdown",
      "source": [
        "Q14> Write a program that uses the logging module to log both informational and error messages."
      ],
      "metadata": {
        "id": "GJenyCdXgT6F"
      }
    },
    {
      "cell_type": "code",
      "source": [
        "import logging\n",
        "\n",
        "# Set up logging configuration\n",
        "logging.basicConfig(\n",
        "    level=logging.DEBUG,  # Capture all messages at DEBUG level and above\n",
        "    format='%(asctime)s - %(levelname)s - %(message)s',\n",
        "    handlers=[\n",
        "        logging.StreamHandler(),  # Output logs to the console\n",
        "        logging.FileHandler('/content/app_log.txt')  # Output logs to a file\n",
        "    ]\n",
        ")\n",
        "\n",
        "# Log an informational message\n",
        "logging.info(\"This is an informational message.\")\n",
        "\n",
        "# Log an error message\n",
        "try:\n",
        "    result = 10 / 0  # This will raise a ZeroDivisionError\n",
        "except ZeroDivisionError as e:\n",
        "    logging.error(f\"Error occurred: {e}\")\n",
        "\n",
        "# Log a warning message\n",
        "logging.warning(\"This is a warning message.\")\n",
        "\n",
        "# Log a debug message\n",
        "logging.debug(\"This is a debug message.\")\n",
        "\n",
        "# Log a critical message\n",
        "logging.critical(\"This is a critical message.\")\n"
      ],
      "metadata": {
        "colab": {
          "base_uri": "https://localhost:8080/"
        },
        "id": "EyczHV2lgXfm",
        "outputId": "7cc3488b-05e6-4f82-bfbd-7bb30bfa6cf3"
      },
      "execution_count": 66,
      "outputs": [
        {
          "output_type": "stream",
          "name": "stderr",
          "text": [
            "INFO:root:This is an informational message.\n",
            "ERROR:root:Error occurred: division by zero\n",
            "WARNING:root:This is a warning message.\n",
            "DEBUG:root:This is a debug message.\n",
            "CRITICAL:root:This is a critical message.\n"
          ]
        }
      ]
    },
    {
      "cell_type": "markdown",
      "source": [
        "Q15> Write a Python program that prints the content of a file and handles the case when the file is empty."
      ],
      "metadata": {
        "id": "aDOfJWbjgd90"
      }
    },
    {
      "cell_type": "code",
      "source": [
        "def print_file_content(file_name):\n",
        "    try:\n",
        "        # Open the file in read mode\n",
        "        with open(file_name, 'r') as file:\n",
        "            # Read the content of the file\n",
        "            content = file.read()\n",
        "\n",
        "            # Check if the file is empty\n",
        "            if not content:\n",
        "                print(f\"The file '{file_name}' is empty.\")\n",
        "            else:\n",
        "                # Print the content of the file\n",
        "                print(f\"Content of the file '{file_name}':\\n{content}\")\n",
        "\n",
        "    except FileNotFoundError:\n",
        "        print(f\"Error: The file '{file_name}' does not exist.\")\n",
        "    except Exception as e:\n",
        "        print(f\"An unexpected error occurred: {e}\")\n",
        "\n",
        "# Example usage\n",
        "file_name = '/content/sample_file.txt'  # Change this to your file path\n",
        "print_file_content(file_name)\n"
      ],
      "metadata": {
        "colab": {
          "base_uri": "https://localhost:8080/"
        },
        "id": "B2IhhKnYgikq",
        "outputId": "693cacec-1dc2-4313-a5d4-d02ab2fd7d72"
      },
      "execution_count": 67,
      "outputs": [
        {
          "output_type": "stream",
          "name": "stdout",
          "text": [
            "Error: The file '/content/sample_file.txt' does not exist.\n"
          ]
        }
      ]
    },
    {
      "cell_type": "code",
      "source": [
        "def print_file_content(file_name):\n",
        "    try:\n",
        "        # Open the file in read mode\n",
        "        with open(file_name, 'r') as file:\n",
        "            # Read the content of the file\n",
        "            content = file.read()\n",
        "\n",
        "            # Check if the file is empty\n",
        "            if not content:\n",
        "                print(f\"The file '{file_name}' is empty.\")\n",
        "            else:\n",
        "                # Print the content of the file\n",
        "                print(f\"Content of the file '{file_name}':\\n{content}\")\n",
        "\n",
        "    except FileNotFoundError:\n",
        "        print(f\"Error: The file '{file_name}' does not exist.\")\n",
        "    except Exception as e:\n",
        "        print(f\"An unexpected error occurred: {e}\")\n",
        "\n",
        "# Example usage\n",
        "file_name = '/content/output.txt'  # Change this to your file path\n",
        "print_file_content(file_name)\n"
      ],
      "metadata": {
        "colab": {
          "base_uri": "https://localhost:8080/"
        },
        "id": "Zi--w0BKgpFm",
        "outputId": "c3c9aebc-0a1a-4760-b309-0a9dc5fb6874"
      },
      "execution_count": 68,
      "outputs": [
        {
          "output_type": "stream",
          "name": "stdout",
          "text": [
            "Content of the file '/content/output.txt':\n",
            "Hello, world!\n",
            "This is a test.\n"
          ]
        }
      ]
    },
    {
      "cell_type": "markdown",
      "source": [
        "Q16> Demonstrate how to use memory profiling to check the memory usage of a small program."
      ],
      "metadata": {
        "id": "qPHCKksNgsnm"
      }
    },
    {
      "cell_type": "code",
      "source": [
        "import tracemalloc\n",
        "\n",
        "# Function to demonstrate memory usage\n",
        "def my_function():\n",
        "    # Allocate memory by creating lists\n",
        "    a = [1] * (10**6)  # List of one million elements\n",
        "    b = [2] * (2 * 10**7)  # List of twenty million elements\n",
        "\n",
        "    # Perform some operations\n",
        "    del b  # Deleting a large list to free memory\n",
        "\n",
        "    return a\n",
        "\n",
        "# Start tracing memory\n",
        "tracemalloc.start()\n",
        "\n",
        "# Call the function\n",
        "my_function()\n",
        "\n",
        "# Take a snapshot after function execution\n",
        "snapshot = tracemalloc.take_snapshot()\n",
        "\n",
        "# Print the top 10 memory-consuming lines\n",
        "print(\"Top 10 memory-consuming lines:\")\n",
        "for index, stat in enumerate(snapshot.statistics('lineno')[:10]):\n",
        "    print(f\"{index+1}: {stat}\")\n"
      ],
      "metadata": {
        "colab": {
          "base_uri": "https://localhost:8080/"
        },
        "id": "mwpJcC1QhlTG",
        "outputId": "4b915c53-b00a-41ce-b51e-fb27eafe6476"
      },
      "execution_count": 73,
      "outputs": [
        {
          "output_type": "stream",
          "name": "stdout",
          "text": [
            "Top 10 memory-consuming lines:\n",
            "1: <ipython-input-73-f2d9a2364904>:21: size=416 B, count=1, average=416 B\n",
            "2: /usr/local/lib/python3.10/dist-packages/IPython/core/interactiveshell.py:3553: size=392 B, count=1, average=392 B\n",
            "3: /usr/lib/python3.10/codeop.py:118: size=320 B, count=6, average=53 B\n",
            "4: /usr/local/lib/python3.10/dist-packages/ipykernel/iostream.py:220: size=256 B, count=3, average=85 B\n",
            "5: /usr/local/lib/python3.10/dist-packages/ipykernel/iostream.py:212: size=256 B, count=3, average=85 B\n",
            "6: /usr/local/lib/python3.10/dist-packages/IPython/core/interactiveshell.py:3358: size=240 B, count=2, average=120 B\n",
            "7: /usr/local/lib/python3.10/dist-packages/IPython/core/interactiveshell.py:3473: size=112 B, count=1, average=112 B\n",
            "8: /usr/local/lib/python3.10/dist-packages/IPython/core/interactiveshell.py:3466: size=96 B, count=3, average=32 B\n",
            "9: /usr/lib/python3.10/threading.py:313: size=88 B, count=2, average=44 B\n",
            "10: /usr/lib/python3.10/asyncio/events.py:80: size=72 B, count=1, average=72 B\n"
          ]
        }
      ]
    },
    {
      "cell_type": "markdown",
      "source": [
        "Q17> Write a Python program to create and write a list of numbers to a file, one number per line."
      ],
      "metadata": {
        "id": "qxWhFMVyh4N9"
      }
    },
    {
      "cell_type": "code",
      "source": [
        "# List of numbers to write to the file\n",
        "numbers = [1, 2, 3, 4, 5, 6, 7, 8, 9, 10]\n",
        "\n",
        "# Open the file in write mode\n",
        "with open('/content/numbers.txt', 'w') as file:\n",
        "    # Iterate through the list and write each number to a new line in the file\n",
        "    for number in numbers:\n",
        "        file.write(f\"{number}\\n\")\n",
        "\n",
        "print(\"Numbers have been written to 'numbers.txt'\")\n"
      ],
      "metadata": {
        "colab": {
          "base_uri": "https://localhost:8080/"
        },
        "id": "jL2rycq3h9QS",
        "outputId": "64dd77f7-809b-4df5-f2c8-08df5422995d"
      },
      "execution_count": 74,
      "outputs": [
        {
          "output_type": "stream",
          "name": "stdout",
          "text": [
            "Numbers have been written to 'numbers.txt'\n"
          ]
        }
      ]
    },
    {
      "cell_type": "code",
      "source": [
        "# Read and print the content of the file\n",
        "with open('/content/numbers.txt', 'r') as file:\n",
        "    print(file.read())\n"
      ],
      "metadata": {
        "colab": {
          "base_uri": "https://localhost:8080/"
        },
        "id": "rVb3WrK4iLXu",
        "outputId": "ea2269d6-16b9-4025-ab71-5d57c03c0933"
      },
      "execution_count": 75,
      "outputs": [
        {
          "output_type": "stream",
          "name": "stdout",
          "text": [
            "1\n",
            "2\n",
            "3\n",
            "4\n",
            "5\n",
            "6\n",
            "7\n",
            "8\n",
            "9\n",
            "10\n",
            "\n"
          ]
        }
      ]
    },
    {
      "cell_type": "markdown",
      "source": [
        "Q18>How would you implement a basic logging setup that logs to a file with rotation after 1MB?"
      ],
      "metadata": {
        "id": "lpLxGQQJiPMa"
      }
    },
    {
      "cell_type": "code",
      "source": [
        "import logging\n",
        "from logging.handlers import RotatingFileHandler\n",
        "\n",
        "# Create a logger\n",
        "logger = logging.getLogger('MyLogger')\n",
        "logger.setLevel(logging.DEBUG)  # Set the level to DEBUG to capture all types of logs\n",
        "\n",
        "# Create a rotating file handler that logs to 'app.log', rotates after 1MB\n",
        "log_file = '/content/app.log'  # Change this to the desired path for the log file\n",
        "handler = RotatingFileHandler(log_file, maxBytes=1*1024*1024, backupCount=3)  # 1MB size, 3 backups\n",
        "\n",
        "# Create a formatter and set it for the handler\n",
        "formatter = logging.Formatter('%(asctime)s - %(name)s - %(levelname)s - %(message)s')\n",
        "handler.setFormatter(formatter)\n",
        "\n",
        "# Add the handler to the logger\n",
        "logger.addHandler(handler)\n",
        "\n",
        "# Example log messages\n",
        "logger.debug('This is a debug message.')\n",
        "logger.info('This is an info message.')\n",
        "logger.warning('This is a warning message.')\n",
        "logger.error('This is an error message.')\n",
        "logger.critical('This is a critical message.')\n",
        "\n",
        "print(\"Logging setup complete. Logs will be written to 'app.log'.\")\n"
      ],
      "metadata": {
        "colab": {
          "base_uri": "https://localhost:8080/"
        },
        "id": "BBRYZfVTiTaZ",
        "outputId": "25af74c5-d9a2-4992-e224-b3916c2a4c46"
      },
      "execution_count": 76,
      "outputs": [
        {
          "output_type": "stream",
          "name": "stderr",
          "text": [
            "DEBUG:MyLogger:This is a debug message.\n",
            "INFO:MyLogger:This is an info message.\n",
            "WARNING:MyLogger:This is a warning message.\n",
            "ERROR:MyLogger:This is an error message.\n",
            "CRITICAL:MyLogger:This is a critical message.\n"
          ]
        },
        {
          "output_type": "stream",
          "name": "stdout",
          "text": [
            "Logging setup complete. Logs will be written to 'app.log'.\n"
          ]
        }
      ]
    },
    {
      "cell_type": "markdown",
      "source": [
        "Q19> Write a program that handles both IndexError and KeyError using a try-except block."
      ],
      "metadata": {
        "id": "GTKnOeuYiYS9"
      }
    },
    {
      "cell_type": "code",
      "source": [
        "# Sample data\n",
        "my_list = [1, 2, 3, 4, 5]\n",
        "my_dict = {'a': 1, 'b': 2, 'c': 3}\n",
        "\n",
        "try:\n",
        "    # Attempt to access an index that might not exist in the list\n",
        "    index_value = my_list[10]  # This will raise IndexError\n",
        "\n",
        "    # Attempt to access a key that might not exist in the dictionary\n",
        "    dict_value = my_dict['d']  # This will raise KeyError\n",
        "\n",
        "except IndexError as e:\n",
        "    print(f\"IndexError: {e} - Index out of range in the list.\")\n",
        "\n",
        "except KeyError as e:\n",
        "    print(f\"KeyError: {e} - Key not found in the dictionary.\")\n",
        "\n",
        "print(\"Program continues after handling the errors.\")\n"
      ],
      "metadata": {
        "colab": {
          "base_uri": "https://localhost:8080/"
        },
        "id": "vfJgMBvmif8N",
        "outputId": "0754a6ba-b709-4629-8353-ac988ed28a18"
      },
      "execution_count": 77,
      "outputs": [
        {
          "output_type": "stream",
          "name": "stdout",
          "text": [
            "IndexError: list index out of range - Index out of range in the list.\n",
            "Program continues after handling the errors.\n"
          ]
        }
      ]
    },
    {
      "cell_type": "markdown",
      "source": [
        "Q20> How would you open a file and read its contents using a context manager in Python?"
      ],
      "metadata": {
        "id": "euV7Z0GTihaj"
      }
    },
    {
      "cell_type": "code",
      "source": [
        "# Using a context manager to open and read a file\n",
        "file_path = '/content/example.txt'  # Path to the file\n",
        "\n",
        "# Open the file using 'with' statement (context manager)\n",
        "with open(file_path, 'r') as file:\n",
        "    content = file.read()  # Read the entire content of the file\n",
        "\n",
        "# Print the content of the file\n",
        "print(content)\n"
      ],
      "metadata": {
        "colab": {
          "base_uri": "https://localhost:8080/"
        },
        "id": "M4TIMnUGilzI",
        "outputId": "dcc7543c-3eae-4743-e039-065161aa6fe2"
      },
      "execution_count": 79,
      "outputs": [
        {
          "output_type": "stream",
          "name": "stdout",
          "text": [
            "This is a string written to the file.This is the new data that will be appended to the file.\n",
            "\n"
          ]
        }
      ]
    },
    {
      "cell_type": "code",
      "source": [
        "# Using a context manager to open and read a file line by line\n",
        "with open(file_path, 'r') as file:\n",
        "    lines = file.readlines()  # Read all lines as a list of strings\n",
        "\n",
        "# Print the list of lines\n",
        "for line in lines:\n",
        "    print(line.strip())  # Using strip to remove leading/trailing newlines\n"
      ],
      "metadata": {
        "colab": {
          "base_uri": "https://localhost:8080/"
        },
        "id": "aPNKcV3PiwwO",
        "outputId": "5fc93b5c-d84f-4428-e777-5350cddd9bb2"
      },
      "execution_count": 80,
      "outputs": [
        {
          "output_type": "stream",
          "name": "stdout",
          "text": [
            "This is a string written to the file.This is the new data that will be appended to the file.\n"
          ]
        }
      ]
    },
    {
      "cell_type": "markdown",
      "source": [
        "Q21> Write a Python program that reads a file and prints the number of occurrences of a specific word."
      ],
      "metadata": {
        "id": "5umWlkA1iym1"
      }
    },
    {
      "cell_type": "code",
      "source": [
        "# Define the word to search for\n",
        "word_to_search = 'Python'\n",
        "\n",
        "# Path to the file\n",
        "file_path = '/content/example.txt'  # Update the path with the actual file location\n",
        "\n",
        "# Initialize a counter for the word occurrences\n",
        "word_count = 0\n",
        "\n",
        "# Open the file using a context manager\n",
        "with open(file_path, 'r') as file:\n",
        "    # Iterate through each line in the file\n",
        "    for line in file:\n",
        "        # Convert the line to lowercase to make the search case-insensitive\n",
        "        word_count += line.lower().split().count(word_to_search.lower())\n",
        "\n",
        "# Print the result\n",
        "print(f\"The word '{word_to_search}' appeared {word_count} times in the file.\")\n"
      ],
      "metadata": {
        "colab": {
          "base_uri": "https://localhost:8080/"
        },
        "id": "BK74PfNki3F9",
        "outputId": "9b83b826-05e1-47fa-f481-77418708c61b"
      },
      "execution_count": 81,
      "outputs": [
        {
          "output_type": "stream",
          "name": "stdout",
          "text": [
            "The word 'Python' appeared 0 times in the file.\n"
          ]
        }
      ]
    },
    {
      "cell_type": "code",
      "source": [
        "# Appending a line that contains the word 'Python'\n",
        "data_to_append = \"I am learning Python from PWSKILLS.\\n\"\n",
        "\n",
        "# Open the file in append mode\n",
        "file_name = '/content/example.txt'\n",
        "\n",
        "with open(file_name, 'a') as file:\n",
        "        # Append data to the file\n",
        "        file.write(data_to_append)\n",
        "\n"
      ],
      "metadata": {
        "id": "qiD5DkgRjG1a"
      },
      "execution_count": 86,
      "outputs": []
    },
    {
      "cell_type": "code",
      "source": [
        "# Open input file in read mode ('r')\n",
        "with open('/content/example.txt', 'r') as file:\n",
        "    # Iterate through each line in the file and print it\n",
        "    for line in file:\n",
        "        print(line, end='')  # end='' prevents adding an extra newline"
      ],
      "metadata": {
        "colab": {
          "base_uri": "https://localhost:8080/"
        },
        "id": "kRpjC3VJj8b6",
        "outputId": "30b28a7f-596c-45c9-efb5-077c42aca137"
      },
      "execution_count": 89,
      "outputs": [
        {
          "output_type": "stream",
          "name": "stdout",
          "text": [
            "This is a string written to the file.This is the new data that will be appended to the file.\n",
            "I am learning Python from PWSKILLS.\n"
          ]
        }
      ]
    },
    {
      "cell_type": "code",
      "source": [
        "# Define the word to search for\n",
        "word_to_search = 'Python'\n",
        "\n",
        "# Path to the file\n",
        "file_path = '/content/example.txt'  # Update the path with the actual file location\n",
        "\n",
        "# Initialize a counter for the word occurrences\n",
        "word_count = 0\n",
        "\n",
        "# Open the file using a context manager\n",
        "with open(file_path, 'r') as file:\n",
        "    # Iterate through each line in the file\n",
        "    for line in file:\n",
        "        # Convert the line to lowercase to make the search case-insensitive\n",
        "        word_count += line.lower().split().count(word_to_search.lower())\n",
        "\n",
        "# Print the result\n",
        "print(f\"The word '{word_to_search}' appeared {word_count} times in the file.\")"
      ],
      "metadata": {
        "colab": {
          "base_uri": "https://localhost:8080/"
        },
        "id": "UclqxOXjjAin",
        "outputId": "080b914a-e7c4-4a65-dc95-d3e2ac434c0b"
      },
      "execution_count": 87,
      "outputs": [
        {
          "output_type": "stream",
          "name": "stdout",
          "text": [
            "The word 'Python' appeared 1 times in the file.\n"
          ]
        }
      ]
    },
    {
      "cell_type": "markdown",
      "source": [
        "Q22> How can you check if a file is empty before attempting to read its contents?"
      ],
      "metadata": {
        "id": "cqUaqxTYkBUy"
      }
    },
    {
      "cell_type": "code",
      "source": [
        "import os\n",
        "\n",
        "# Path to the file\n",
        "file_path = '/content/output.txt'\n",
        "\n",
        "# Check if the file is empty\n",
        "if os.path.getsize(file_path) == 0:\n",
        "    print(f\"The file '{file_path}' is empty.\")\n",
        "else:\n",
        "    # Open and read the file if it's not empty\n",
        "    with open(file_path, 'r') as file:\n",
        "        content = file.read()\n",
        "        print(\"File Content:\")\n",
        "        print(content)\n"
      ],
      "metadata": {
        "colab": {
          "base_uri": "https://localhost:8080/"
        },
        "id": "sHGyFgt7kGt7",
        "outputId": "2c8abe45-1782-4afc-e98f-687d5bf89436"
      },
      "execution_count": 91,
      "outputs": [
        {
          "output_type": "stream",
          "name": "stdout",
          "text": [
            "File Content:\n",
            "Hello, world!\n",
            "This is a test.\n"
          ]
        }
      ]
    },
    {
      "cell_type": "markdown",
      "source": [
        "Q23> Write a Python program that writes to a log file when an error occurs during file handling."
      ],
      "metadata": {
        "id": "oJWLz-eUkPc_"
      }
    },
    {
      "cell_type": "code",
      "source": [
        "import logging\n",
        "\n",
        "# Set up logging configuration\n",
        "logging.basicConfig(\n",
        "    filename='file_operations.log',  # Log file where the errors will be saved\n",
        "    level=logging.ERROR,  # Only log errors and above\n",
        "    format='%(asctime)s - %(levelname)s - %(message)s'\n",
        ")\n",
        "\n",
        "def read_file(file_path):\n",
        "    try:\n",
        "        with open(file_path, 'r') as file:\n",
        "            content = file.read()\n",
        "            print(content)\n",
        "    except Exception as e:\n",
        "        logging.error(f\"Error occurred while reading file '{file_path}': {e}\")\n",
        "\n",
        "def write_to_file(file_path, data):\n",
        "    try:\n",
        "        with open(file_path, 'w') as file:\n",
        "            file.write(data)\n",
        "            print(\"Data written successfully.\")\n",
        "    except Exception as e:\n",
        "        logging.error(f\"Error occurred while writing to file '{file_path}': {e}\")\n",
        "\n",
        "# Example usage\n",
        "read_file('non_existent_file.txt')  # This will cause an error (File not found)\n",
        "write_to_file('/content/example.txt', 'Hello, World!')  # Writing to an existing file\n"
      ],
      "metadata": {
        "colab": {
          "base_uri": "https://localhost:8080/"
        },
        "id": "F-2iWZ02kSQO",
        "outputId": "3c88c092-9439-4056-a3b9-db6eb32eab3c"
      },
      "execution_count": 94,
      "outputs": [
        {
          "output_type": "stream",
          "name": "stderr",
          "text": [
            "ERROR:root:Error occurred while reading file 'non_existent_file.txt': [Errno 2] No such file or directory: 'non_existent_file.txt'\n"
          ]
        },
        {
          "output_type": "stream",
          "name": "stdout",
          "text": [
            "Data written successfully.\n"
          ]
        }
      ]
    }
  ]
}